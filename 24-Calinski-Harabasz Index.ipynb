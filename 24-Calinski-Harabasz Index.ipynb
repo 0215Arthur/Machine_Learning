{
 "cells": [
  {
   "cell_type": "markdown",
   "metadata": {},
   "source": [
    "<div  align=\"center\">    \n",
    "    <img src = './img/31.png', width=600, height=200/>\n",
    "</div>"
   ]
  },
  {
   "cell_type": "code",
   "execution_count": 1,
   "metadata": {},
   "outputs": [],
   "source": [
    "import numpy as np\n",
    "import matplotlib.pyplot as plt"
   ]
  },
  {
   "cell_type": "code",
   "execution_count": 17,
   "metadata": {},
   "outputs": [],
   "source": [
    "def Wk(X, centroids, idx):\n",
    "    k = np.unique(idx)\n",
    "    wk = np.array([X.shape[1], X.shape[1]] , dtype='float64')\n",
    "    for i in range(len(centroids)):\n",
    "        # 得出每个质心对应的Cluster的数据\n",
    "        data = X[np.where(idx==k[i])[0]]\n",
    "        wk += (data - centroids[i]).dot((data - centroids[i]).T)\n",
    "    return wk"
   ]
  },
  {
   "cell_type": "code",
   "execution_count": 18,
   "metadata": {},
   "outputs": [],
   "source": [
    "def Bk(X, centroids, idx):\n",
    "    bk = np.array([X.shape[1], X.shape[1]], dtype='float64')\n",
    "    # 计算矩阵的中心\n",
    "    E = np.eye(centroids.shape[1])\n",
    "    c = centroids.shape[1] //2\n",
    "    # 计算每个Cluster的数量\n",
    "    from collections import Counter\n",
    "    counter = Counter(idx[:, 0])\n",
    "    for i in range(len(centroids)):\n",
    "        # 得出每个质心对应的Cluster的数据\n",
    "        bk += counter[i] * (centroids[i] - E[c]).dot((centroids[i] - E[c]).T)\n",
    "    return bk"
   ]
  },
  {
   "cell_type": "code",
   "execution_count": 4,
   "metadata": {},
   "outputs": [],
   "source": [
    "from Scripts.KMeans import KMeans\n",
    "from sklearn import datasets\n",
    "\n",
    "# 准备我们的数据集\n",
    "X,y=datasets.make_moons(n_samples=1000,noise=0.2)\n",
    "KM = KMeans(X, 3)"
   ]
  },
  {
   "cell_type": "code",
   "execution_count": 6,
   "metadata": {},
   "outputs": [],
   "source": [
    "idx,centroids = KM.runkMeans()"
   ]
  },
  {
   "cell_type": "code",
   "execution_count": 8,
   "metadata": {},
   "outputs": [
    {
     "data": {
      "text/plain": [
       "array([[ 1.57129657, -0.13546854],\n",
       "       [-0.49861409,  0.63668576],\n",
       "       [ 0.53321993,  0.22370908]])"
      ]
     },
     "execution_count": 8,
     "metadata": {},
     "output_type": "execute_result"
    }
   ],
   "source": [
    "centroids"
   ]
  },
  {
   "cell_type": "code",
   "execution_count": null,
   "metadata": {},
   "outputs": [],
   "source": [
    "s = (Wk(X, idx, centroids)/Bk(X, idx, centroids)) * (len(X) - 3)/(3-1)\n",
    "s"
   ]
  }
 ],
 "metadata": {
  "kernelspec": {
   "display_name": "Python 3",
   "language": "python",
   "name": "python3"
  },
  "language_info": {
   "codemirror_mode": {
    "name": "ipython",
    "version": 3
   },
   "file_extension": ".py",
   "mimetype": "text/x-python",
   "name": "python",
   "nbconvert_exporter": "python",
   "pygments_lexer": "ipython3",
   "version": "3.7.1"
  }
 },
 "nbformat": 4,
 "nbformat_minor": 2
}
